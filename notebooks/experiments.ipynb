{
 "cells": [
  {
   "cell_type": "code",
   "execution_count": 1,
   "metadata": {
    "collapsed": true,
    "ExecuteTime": {
     "start_time": "2023-07-08T19:13:43.297301Z",
     "end_time": "2023-07-08T19:13:43.635743Z"
    }
   },
   "outputs": [],
   "source": [
    "import pandas as pd"
   ]
  },
  {
   "cell_type": "code",
   "execution_count": 2,
   "outputs": [
    {
     "data": {
      "text/plain": "                                 0                                1\n0  {'test1': 1, 'test2': 'test-1'}  {'test1': 2, 'test2': 'test-2'}\n1  {'test1': 3, 'test2': 'test-1'}  {'test1': 4, 'test2': 'test-2'}",
      "text/html": "<div>\n<style scoped>\n    .dataframe tbody tr th:only-of-type {\n        vertical-align: middle;\n    }\n\n    .dataframe tbody tr th {\n        vertical-align: top;\n    }\n\n    .dataframe thead th {\n        text-align: right;\n    }\n</style>\n<table border=\"1\" class=\"dataframe\">\n  <thead>\n    <tr style=\"text-align: right;\">\n      <th></th>\n      <th>0</th>\n      <th>1</th>\n    </tr>\n  </thead>\n  <tbody>\n    <tr>\n      <th>0</th>\n      <td>{'test1': 1, 'test2': 'test-1'}</td>\n      <td>{'test1': 2, 'test2': 'test-2'}</td>\n    </tr>\n    <tr>\n      <th>1</th>\n      <td>{'test1': 3, 'test2': 'test-1'}</td>\n      <td>{'test1': 4, 'test2': 'test-2'}</td>\n    </tr>\n  </tbody>\n</table>\n</div>"
     },
     "execution_count": 2,
     "metadata": {},
     "output_type": "execute_result"
    }
   ],
   "source": [
    "data = pd.DataFrame([\n",
    "    [\n",
    "        {\n",
    "            'test1': 1,\n",
    "            'test2': 'test-1',\n",
    "        },\n",
    "        {\n",
    "            'test1': 2,\n",
    "            'test2': 'test-2',\n",
    "        }\n",
    "    ],\n",
    "    [\n",
    "        {\n",
    "            'test1': 3,\n",
    "            'test2': 'test-1',\n",
    "        },\n",
    "        {\n",
    "            'test1': 4,\n",
    "            'test2': 'test-2',\n",
    "        }\n",
    "    ],\n",
    "])\n",
    "\n",
    "data"
   ],
   "metadata": {
    "collapsed": false,
    "ExecuteTime": {
     "start_time": "2023-07-08T19:16:08.214252Z",
     "end_time": "2023-07-08T19:16:08.236483Z"
    }
   }
  },
  {
   "cell_type": "code",
   "execution_count": null,
   "outputs": [],
   "source": [],
   "metadata": {
    "collapsed": false
   }
  }
 ],
 "metadata": {
  "kernelspec": {
   "display_name": "Python 3",
   "language": "python",
   "name": "python3"
  },
  "language_info": {
   "codemirror_mode": {
    "name": "ipython",
    "version": 2
   },
   "file_extension": ".py",
   "mimetype": "text/x-python",
   "name": "python",
   "nbconvert_exporter": "python",
   "pygments_lexer": "ipython2",
   "version": "2.7.6"
  }
 },
 "nbformat": 4,
 "nbformat_minor": 0
}
